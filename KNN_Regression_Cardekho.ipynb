{
  "nbformat": 4,
  "nbformat_minor": 0,
  "metadata": {
    "colab": {
      "provenance": []
    },
    "kernelspec": {
      "name": "python3",
      "display_name": "Python 3"
    },
    "language_info": {
      "name": "python"
    }
  },
  "cells": [
    {
      "cell_type": "markdown",
      "source": [
        "# K Nearest Neighbors Regression on CarDekho Dataset\n",
        "<ol>\n",
        "<li> Instance Based Algorithm (Lazy Learner).</li>\n",
        "<li> Supervised Learning Algorithms which works for both Classification and Regression. </li>\n",
        "<li> It works based on Mode of KNN for Classification and Mean/Median for Regression.</li>\n",
        "<li> It works for both Categorical and Numerical Independet Features. </li>\n",
        "</ol>\n",
        "\n",
        "<b> Algorithm: </b>\n",
        "<ol>\n",
        "<li> Find Distance of each xtest point to xtrain points. </li>\n",
        "<li> Choose K nearest neigbours of xtest </li>\n",
        "<li> Classification -> mode(y1,y2....yk) --> yhat, \n",
        "<br> Regression -> mean(y1,y2,..yk) ---> yhat </li>\n",
        "<li> Check Performance metrics </li>\n",
        "</ol>\n",
        "\n",
        "<b>Note: </b>\n",
        "<ul>\n",
        "<li> k is the hyperparameter can be choosen using cross validation. </li>\n",
        "<li> Higher the k more the chance for underfitting </li>\n",
        "<li> Lower the k value more is the chance for overfitting. </li>\n",
        "<li> There is impact of outliers depending upon k value </li>\n",
        "<li> Greaty affected by class imbalance. </li>\n",
        "\n",
        "</ul>\n",
        "\n",
        "<b> Basic Preprocessing Steps: </b>\n",
        "<ul>\n",
        "<li> As KNN works based on Distace so it is better to standardize or normalize before model building. </li>\n",
        "<li> Handling Outliers. </li>\n",
        "<li> Handling Imbalanced Datasets by upsampling and downsampling. </li>\n",
        "</ul>\n"
      ],
      "metadata": {
        "id": "985AY8o9q01v"
      }
    },
    {
      "cell_type": "code",
      "execution_count": 3,
      "metadata": {
        "id": "Xt0D7BLqqpsW"
      },
      "outputs": [],
      "source": [
        "#Importing necessary Libraries\n",
        "import pandas as pd\n",
        "import numpy as np\n",
        "import math as m\n",
        "import matplotlib.pyplot as plt\n",
        "import seaborn as sns\n",
        "from sklearn.model_selection import train_test_split"
      ]
    },
    {
      "cell_type": "code",
      "source": [
        "class KNN_Regressor:\n",
        "  def __init__(self,k,x,y,dist=\"Euclidean\",technique=\"Mean\"):\n",
        "    '''\n",
        "     Constructor Function to initiaze class memebers.\n",
        "     args:\n",
        "     k: Hyperparameter\n",
        "     x: x\n",
        "     y: Y Column\n",
        "     dist: Euclidean/Manhattan/Hamming/Minkowski\n",
        "     Technique: Mean/Median\n",
        "     return: None\n",
        "    '''\n",
        "\n",
        "    self.K = k\n",
        "    self.x = x\n",
        "    self.y = y\n",
        "    self.dist = dist\n",
        "    self.technique = technique\n",
        "  \n",
        "  def euclidean(self,x1,x2):\n",
        "    '''\n",
        "    Function to calculate eucliedean distance between given 2 points x1 x2\n",
        "    args:\n",
        "    x1: list of coordinates of point 1\n",
        "    x2: list of coordincates of point 2\n",
        "    return: distance between point1 and point2 float\n",
        "    '''\n",
        "    dist = 0 \n",
        "    for i in range(len(x1)):\n",
        "      dist += (x1[i]-x2[i])**2\n",
        "    return dist**0.5\n",
        "\n",
        "  def mean(self,arr):\n",
        "    '''\n",
        "    Function to calculate mean of given array\n",
        "    args:\n",
        "    arr: list\n",
        "    return: float\n",
        "    '''\n",
        "    sm = 0\n",
        "    for i in arr:\n",
        "      sm+=float(i)\n",
        "\n",
        "    return sm/len(arr)\n",
        "\n",
        "  def median(self,arr):\n",
        "    '''\n",
        "    Function to calculate mean of given array\n",
        "    args:\n",
        "    arr: list\n",
        "    return: float\n",
        "    '''\n",
        "    #sorting array\n",
        "    arr.sort()\n",
        "    if len(arr)%2==0:\n",
        "      return (float(arr[int(len(arr)/2)-1])+float(arr[int(len(arr)/2)]))/2\n",
        "    else:\n",
        "      return float(arr[int(len(arr)/2)-1])\n",
        "\n",
        "  def Predict(self,x_test):\n",
        "    '''\n",
        "    Function to predict for given x test\n",
        "    args:\n",
        "    xtest: dataframe containing indpendent features\n",
        "    return: List of all the yhats of given xtest\n",
        "    '''\n",
        "    xtrain = np.array(self.x)\n",
        "    ytrain = np.array(self.y)\n",
        "    xtest = np.array(x_test)\n",
        "    yhat_test = []\n",
        "    \n",
        "\n",
        "    for i in range(len(xtest)):\n",
        "      dic = {}\n",
        "      for j in range(len(xtrain)):\n",
        "        if self.dist == \"Euclidean\":\n",
        "          dic[str(i)+\"_\"+str(j)+\"_\"+str(ytrain[j])] = self.euclidean(xtest[i],xtrain[j])\n",
        "        else:\n",
        "          return\n",
        "      dic = dict(sorted(dic.items(), key=lambda item: item[1]))\n",
        "      yknn = list(dic.keys())[:self.K]\n",
        "      yhat = []\n",
        "      for i in yknn:\n",
        "        yhat.append(i.split(\"_\")[-1])\n",
        "      if self.technique==\"Mean\":\n",
        "        yhat_test.append(self.mean(yhat))\n",
        "      else:\n",
        "        yhat_test.append(self.median(yhat))\n",
        "    \n",
        "    return yhat_test\n",
        "  \n",
        "  def MSE(self,y,yhat):\n",
        "    '''\n",
        "    Function to calculate Mean Squared Error\n",
        "    args:\n",
        "    y: Actual Y \n",
        "    yhat: Predicted Y\n",
        "    return: float'''\n",
        "    sse = 0\n",
        "    for i in range(len(y)):\n",
        "      sse+= (y[i]-yhat[i])**2\n",
        "    \n",
        "    return sse/len(y)"
      ],
      "metadata": {
        "id": "YbQ31gyCq64F"
      },
      "execution_count": 158,
      "outputs": []
    },
    {
      "cell_type": "markdown",
      "source": [
        "## EDA"
      ],
      "metadata": {
        "id": "KWjwwm1TvqQb"
      }
    },
    {
      "cell_type": "code",
      "source": [
        "df = pd.read_csv(\"https://raw.githubusercontent.com/Lordvarun23/KNN-Regressor-Cardekho/main/data.csv\")"
      ],
      "metadata": {
        "id": "vwXTZf1dvcb5"
      },
      "execution_count": 41,
      "outputs": []
    },
    {
      "cell_type": "code",
      "source": [
        "df.head()"
      ],
      "metadata": {
        "colab": {
          "base_uri": "https://localhost:8080/",
          "height": 206
        },
        "id": "SguHEy_qvitQ",
        "outputId": "18831d95-77cd-44c9-a0ca-f7be1f5366bf"
      },
      "execution_count": 5,
      "outputs": [
        {
          "output_type": "execute_result",
          "data": {
            "text/plain": [
              "                       name  year  selling_price  km_driven    fuel  \\\n",
              "0             Maruti 800 AC  2007          60000      70000  Petrol   \n",
              "1  Maruti Wagon R LXI Minor  2007         135000      50000  Petrol   \n",
              "2      Hyundai Verna 1.6 SX  2012         600000     100000  Diesel   \n",
              "3    Datsun RediGO T Option  2017         250000      46000  Petrol   \n",
              "4     Honda Amaze VX i-DTEC  2014         450000     141000  Diesel   \n",
              "\n",
              "  seller_type transmission         owner  \n",
              "0  Individual       Manual   First Owner  \n",
              "1  Individual       Manual   First Owner  \n",
              "2  Individual       Manual   First Owner  \n",
              "3  Individual       Manual   First Owner  \n",
              "4  Individual       Manual  Second Owner  "
            ],
            "text/html": [
              "\n",
              "  <div id=\"df-8aae41c5-2d8d-4955-a3a1-6839f41ffaf7\">\n",
              "    <div class=\"colab-df-container\">\n",
              "      <div>\n",
              "<style scoped>\n",
              "    .dataframe tbody tr th:only-of-type {\n",
              "        vertical-align: middle;\n",
              "    }\n",
              "\n",
              "    .dataframe tbody tr th {\n",
              "        vertical-align: top;\n",
              "    }\n",
              "\n",
              "    .dataframe thead th {\n",
              "        text-align: right;\n",
              "    }\n",
              "</style>\n",
              "<table border=\"1\" class=\"dataframe\">\n",
              "  <thead>\n",
              "    <tr style=\"text-align: right;\">\n",
              "      <th></th>\n",
              "      <th>name</th>\n",
              "      <th>year</th>\n",
              "      <th>selling_price</th>\n",
              "      <th>km_driven</th>\n",
              "      <th>fuel</th>\n",
              "      <th>seller_type</th>\n",
              "      <th>transmission</th>\n",
              "      <th>owner</th>\n",
              "    </tr>\n",
              "  </thead>\n",
              "  <tbody>\n",
              "    <tr>\n",
              "      <th>0</th>\n",
              "      <td>Maruti 800 AC</td>\n",
              "      <td>2007</td>\n",
              "      <td>60000</td>\n",
              "      <td>70000</td>\n",
              "      <td>Petrol</td>\n",
              "      <td>Individual</td>\n",
              "      <td>Manual</td>\n",
              "      <td>First Owner</td>\n",
              "    </tr>\n",
              "    <tr>\n",
              "      <th>1</th>\n",
              "      <td>Maruti Wagon R LXI Minor</td>\n",
              "      <td>2007</td>\n",
              "      <td>135000</td>\n",
              "      <td>50000</td>\n",
              "      <td>Petrol</td>\n",
              "      <td>Individual</td>\n",
              "      <td>Manual</td>\n",
              "      <td>First Owner</td>\n",
              "    </tr>\n",
              "    <tr>\n",
              "      <th>2</th>\n",
              "      <td>Hyundai Verna 1.6 SX</td>\n",
              "      <td>2012</td>\n",
              "      <td>600000</td>\n",
              "      <td>100000</td>\n",
              "      <td>Diesel</td>\n",
              "      <td>Individual</td>\n",
              "      <td>Manual</td>\n",
              "      <td>First Owner</td>\n",
              "    </tr>\n",
              "    <tr>\n",
              "      <th>3</th>\n",
              "      <td>Datsun RediGO T Option</td>\n",
              "      <td>2017</td>\n",
              "      <td>250000</td>\n",
              "      <td>46000</td>\n",
              "      <td>Petrol</td>\n",
              "      <td>Individual</td>\n",
              "      <td>Manual</td>\n",
              "      <td>First Owner</td>\n",
              "    </tr>\n",
              "    <tr>\n",
              "      <th>4</th>\n",
              "      <td>Honda Amaze VX i-DTEC</td>\n",
              "      <td>2014</td>\n",
              "      <td>450000</td>\n",
              "      <td>141000</td>\n",
              "      <td>Diesel</td>\n",
              "      <td>Individual</td>\n",
              "      <td>Manual</td>\n",
              "      <td>Second Owner</td>\n",
              "    </tr>\n",
              "  </tbody>\n",
              "</table>\n",
              "</div>\n",
              "      <button class=\"colab-df-convert\" onclick=\"convertToInteractive('df-8aae41c5-2d8d-4955-a3a1-6839f41ffaf7')\"\n",
              "              title=\"Convert this dataframe to an interactive table.\"\n",
              "              style=\"display:none;\">\n",
              "        \n",
              "  <svg xmlns=\"http://www.w3.org/2000/svg\" height=\"24px\"viewBox=\"0 0 24 24\"\n",
              "       width=\"24px\">\n",
              "    <path d=\"M0 0h24v24H0V0z\" fill=\"none\"/>\n",
              "    <path d=\"M18.56 5.44l.94 2.06.94-2.06 2.06-.94-2.06-.94-.94-2.06-.94 2.06-2.06.94zm-11 1L8.5 8.5l.94-2.06 2.06-.94-2.06-.94L8.5 2.5l-.94 2.06-2.06.94zm10 10l.94 2.06.94-2.06 2.06-.94-2.06-.94-.94-2.06-.94 2.06-2.06.94z\"/><path d=\"M17.41 7.96l-1.37-1.37c-.4-.4-.92-.59-1.43-.59-.52 0-1.04.2-1.43.59L10.3 9.45l-7.72 7.72c-.78.78-.78 2.05 0 2.83L4 21.41c.39.39.9.59 1.41.59.51 0 1.02-.2 1.41-.59l7.78-7.78 2.81-2.81c.8-.78.8-2.07 0-2.86zM5.41 20L4 18.59l7.72-7.72 1.47 1.35L5.41 20z\"/>\n",
              "  </svg>\n",
              "      </button>\n",
              "      \n",
              "  <style>\n",
              "    .colab-df-container {\n",
              "      display:flex;\n",
              "      flex-wrap:wrap;\n",
              "      gap: 12px;\n",
              "    }\n",
              "\n",
              "    .colab-df-convert {\n",
              "      background-color: #E8F0FE;\n",
              "      border: none;\n",
              "      border-radius: 50%;\n",
              "      cursor: pointer;\n",
              "      display: none;\n",
              "      fill: #1967D2;\n",
              "      height: 32px;\n",
              "      padding: 0 0 0 0;\n",
              "      width: 32px;\n",
              "    }\n",
              "\n",
              "    .colab-df-convert:hover {\n",
              "      background-color: #E2EBFA;\n",
              "      box-shadow: 0px 1px 2px rgba(60, 64, 67, 0.3), 0px 1px 3px 1px rgba(60, 64, 67, 0.15);\n",
              "      fill: #174EA6;\n",
              "    }\n",
              "\n",
              "    [theme=dark] .colab-df-convert {\n",
              "      background-color: #3B4455;\n",
              "      fill: #D2E3FC;\n",
              "    }\n",
              "\n",
              "    [theme=dark] .colab-df-convert:hover {\n",
              "      background-color: #434B5C;\n",
              "      box-shadow: 0px 1px 3px 1px rgba(0, 0, 0, 0.15);\n",
              "      filter: drop-shadow(0px 1px 2px rgba(0, 0, 0, 0.3));\n",
              "      fill: #FFFFFF;\n",
              "    }\n",
              "  </style>\n",
              "\n",
              "      <script>\n",
              "        const buttonEl =\n",
              "          document.querySelector('#df-8aae41c5-2d8d-4955-a3a1-6839f41ffaf7 button.colab-df-convert');\n",
              "        buttonEl.style.display =\n",
              "          google.colab.kernel.accessAllowed ? 'block' : 'none';\n",
              "\n",
              "        async function convertToInteractive(key) {\n",
              "          const element = document.querySelector('#df-8aae41c5-2d8d-4955-a3a1-6839f41ffaf7');\n",
              "          const dataTable =\n",
              "            await google.colab.kernel.invokeFunction('convertToInteractive',\n",
              "                                                     [key], {});\n",
              "          if (!dataTable) return;\n",
              "\n",
              "          const docLinkHtml = 'Like what you see? Visit the ' +\n",
              "            '<a target=\"_blank\" href=https://colab.research.google.com/notebooks/data_table.ipynb>data table notebook</a>'\n",
              "            + ' to learn more about interactive tables.';\n",
              "          element.innerHTML = '';\n",
              "          dataTable['output_type'] = 'display_data';\n",
              "          await google.colab.output.renderOutput(dataTable, element);\n",
              "          const docLink = document.createElement('div');\n",
              "          docLink.innerHTML = docLinkHtml;\n",
              "          element.appendChild(docLink);\n",
              "        }\n",
              "      </script>\n",
              "    </div>\n",
              "  </div>\n",
              "  "
            ]
          },
          "metadata": {},
          "execution_count": 5
        }
      ]
    },
    {
      "cell_type": "markdown",
      "source": [
        "### Inference:\n",
        "<ol>\n",
        "<li>\n",
        "Columns Name,Year,Km_driven,Fuel,Seller type, transmission,owner are independent features.</li>\n",
        "<li> selling_price column is dependent feature. </li>\n",
        "</ol>\n"
      ],
      "metadata": {
        "id": "O_svD-GMv4JO"
      }
    },
    {
      "cell_type": "code",
      "source": [
        "df.shape"
      ],
      "metadata": {
        "colab": {
          "base_uri": "https://localhost:8080/"
        },
        "id": "d94P6sdovsKg",
        "outputId": "06c47156-838d-4d38-b222-360f1e6708b0"
      },
      "execution_count": 6,
      "outputs": [
        {
          "output_type": "execute_result",
          "data": {
            "text/plain": [
              "(4340, 8)"
            ]
          },
          "metadata": {},
          "execution_count": 6
        }
      ]
    },
    {
      "cell_type": "code",
      "source": [
        "df.describe()"
      ],
      "metadata": {
        "colab": {
          "base_uri": "https://localhost:8080/",
          "height": 300
        },
        "id": "RmKkCLrCvuZh",
        "outputId": "00461e2d-b3b0-40f2-f230-4ac76d459722"
      },
      "execution_count": 7,
      "outputs": [
        {
          "output_type": "execute_result",
          "data": {
            "text/plain": [
              "              year  selling_price      km_driven\n",
              "count  4340.000000   4.340000e+03    4340.000000\n",
              "mean   2013.090783   5.041273e+05   66215.777419\n",
              "std       4.215344   5.785487e+05   46644.102194\n",
              "min    1992.000000   2.000000e+04       1.000000\n",
              "25%    2011.000000   2.087498e+05   35000.000000\n",
              "50%    2014.000000   3.500000e+05   60000.000000\n",
              "75%    2016.000000   6.000000e+05   90000.000000\n",
              "max    2020.000000   8.900000e+06  806599.000000"
            ],
            "text/html": [
              "\n",
              "  <div id=\"df-53ce79bb-6f6d-4106-8dac-e0dc75b41e86\">\n",
              "    <div class=\"colab-df-container\">\n",
              "      <div>\n",
              "<style scoped>\n",
              "    .dataframe tbody tr th:only-of-type {\n",
              "        vertical-align: middle;\n",
              "    }\n",
              "\n",
              "    .dataframe tbody tr th {\n",
              "        vertical-align: top;\n",
              "    }\n",
              "\n",
              "    .dataframe thead th {\n",
              "        text-align: right;\n",
              "    }\n",
              "</style>\n",
              "<table border=\"1\" class=\"dataframe\">\n",
              "  <thead>\n",
              "    <tr style=\"text-align: right;\">\n",
              "      <th></th>\n",
              "      <th>year</th>\n",
              "      <th>selling_price</th>\n",
              "      <th>km_driven</th>\n",
              "    </tr>\n",
              "  </thead>\n",
              "  <tbody>\n",
              "    <tr>\n",
              "      <th>count</th>\n",
              "      <td>4340.000000</td>\n",
              "      <td>4.340000e+03</td>\n",
              "      <td>4340.000000</td>\n",
              "    </tr>\n",
              "    <tr>\n",
              "      <th>mean</th>\n",
              "      <td>2013.090783</td>\n",
              "      <td>5.041273e+05</td>\n",
              "      <td>66215.777419</td>\n",
              "    </tr>\n",
              "    <tr>\n",
              "      <th>std</th>\n",
              "      <td>4.215344</td>\n",
              "      <td>5.785487e+05</td>\n",
              "      <td>46644.102194</td>\n",
              "    </tr>\n",
              "    <tr>\n",
              "      <th>min</th>\n",
              "      <td>1992.000000</td>\n",
              "      <td>2.000000e+04</td>\n",
              "      <td>1.000000</td>\n",
              "    </tr>\n",
              "    <tr>\n",
              "      <th>25%</th>\n",
              "      <td>2011.000000</td>\n",
              "      <td>2.087498e+05</td>\n",
              "      <td>35000.000000</td>\n",
              "    </tr>\n",
              "    <tr>\n",
              "      <th>50%</th>\n",
              "      <td>2014.000000</td>\n",
              "      <td>3.500000e+05</td>\n",
              "      <td>60000.000000</td>\n",
              "    </tr>\n",
              "    <tr>\n",
              "      <th>75%</th>\n",
              "      <td>2016.000000</td>\n",
              "      <td>6.000000e+05</td>\n",
              "      <td>90000.000000</td>\n",
              "    </tr>\n",
              "    <tr>\n",
              "      <th>max</th>\n",
              "      <td>2020.000000</td>\n",
              "      <td>8.900000e+06</td>\n",
              "      <td>806599.000000</td>\n",
              "    </tr>\n",
              "  </tbody>\n",
              "</table>\n",
              "</div>\n",
              "      <button class=\"colab-df-convert\" onclick=\"convertToInteractive('df-53ce79bb-6f6d-4106-8dac-e0dc75b41e86')\"\n",
              "              title=\"Convert this dataframe to an interactive table.\"\n",
              "              style=\"display:none;\">\n",
              "        \n",
              "  <svg xmlns=\"http://www.w3.org/2000/svg\" height=\"24px\"viewBox=\"0 0 24 24\"\n",
              "       width=\"24px\">\n",
              "    <path d=\"M0 0h24v24H0V0z\" fill=\"none\"/>\n",
              "    <path d=\"M18.56 5.44l.94 2.06.94-2.06 2.06-.94-2.06-.94-.94-2.06-.94 2.06-2.06.94zm-11 1L8.5 8.5l.94-2.06 2.06-.94-2.06-.94L8.5 2.5l-.94 2.06-2.06.94zm10 10l.94 2.06.94-2.06 2.06-.94-2.06-.94-.94-2.06-.94 2.06-2.06.94z\"/><path d=\"M17.41 7.96l-1.37-1.37c-.4-.4-.92-.59-1.43-.59-.52 0-1.04.2-1.43.59L10.3 9.45l-7.72 7.72c-.78.78-.78 2.05 0 2.83L4 21.41c.39.39.9.59 1.41.59.51 0 1.02-.2 1.41-.59l7.78-7.78 2.81-2.81c.8-.78.8-2.07 0-2.86zM5.41 20L4 18.59l7.72-7.72 1.47 1.35L5.41 20z\"/>\n",
              "  </svg>\n",
              "      </button>\n",
              "      \n",
              "  <style>\n",
              "    .colab-df-container {\n",
              "      display:flex;\n",
              "      flex-wrap:wrap;\n",
              "      gap: 12px;\n",
              "    }\n",
              "\n",
              "    .colab-df-convert {\n",
              "      background-color: #E8F0FE;\n",
              "      border: none;\n",
              "      border-radius: 50%;\n",
              "      cursor: pointer;\n",
              "      display: none;\n",
              "      fill: #1967D2;\n",
              "      height: 32px;\n",
              "      padding: 0 0 0 0;\n",
              "      width: 32px;\n",
              "    }\n",
              "\n",
              "    .colab-df-convert:hover {\n",
              "      background-color: #E2EBFA;\n",
              "      box-shadow: 0px 1px 2px rgba(60, 64, 67, 0.3), 0px 1px 3px 1px rgba(60, 64, 67, 0.15);\n",
              "      fill: #174EA6;\n",
              "    }\n",
              "\n",
              "    [theme=dark] .colab-df-convert {\n",
              "      background-color: #3B4455;\n",
              "      fill: #D2E3FC;\n",
              "    }\n",
              "\n",
              "    [theme=dark] .colab-df-convert:hover {\n",
              "      background-color: #434B5C;\n",
              "      box-shadow: 0px 1px 3px 1px rgba(0, 0, 0, 0.15);\n",
              "      filter: drop-shadow(0px 1px 2px rgba(0, 0, 0, 0.3));\n",
              "      fill: #FFFFFF;\n",
              "    }\n",
              "  </style>\n",
              "\n",
              "      <script>\n",
              "        const buttonEl =\n",
              "          document.querySelector('#df-53ce79bb-6f6d-4106-8dac-e0dc75b41e86 button.colab-df-convert');\n",
              "        buttonEl.style.display =\n",
              "          google.colab.kernel.accessAllowed ? 'block' : 'none';\n",
              "\n",
              "        async function convertToInteractive(key) {\n",
              "          const element = document.querySelector('#df-53ce79bb-6f6d-4106-8dac-e0dc75b41e86');\n",
              "          const dataTable =\n",
              "            await google.colab.kernel.invokeFunction('convertToInteractive',\n",
              "                                                     [key], {});\n",
              "          if (!dataTable) return;\n",
              "\n",
              "          const docLinkHtml = 'Like what you see? Visit the ' +\n",
              "            '<a target=\"_blank\" href=https://colab.research.google.com/notebooks/data_table.ipynb>data table notebook</a>'\n",
              "            + ' to learn more about interactive tables.';\n",
              "          element.innerHTML = '';\n",
              "          dataTable['output_type'] = 'display_data';\n",
              "          await google.colab.output.renderOutput(dataTable, element);\n",
              "          const docLink = document.createElement('div');\n",
              "          docLink.innerHTML = docLinkHtml;\n",
              "          element.appendChild(docLink);\n",
              "        }\n",
              "      </script>\n",
              "    </div>\n",
              "  </div>\n",
              "  "
            ]
          },
          "metadata": {},
          "execution_count": 7
        }
      ]
    },
    {
      "cell_type": "markdown",
      "source": [
        "<h3> Data Visualization </h3>"
      ],
      "metadata": {
        "id": "x1DnbRmuOwDp"
      }
    },
    {
      "cell_type": "markdown",
      "source": [
        "<h4> Checking no of Cars in each fuel type <h4>"
      ],
      "metadata": {
        "id": "6e_0QivUO7iR"
      }
    },
    {
      "cell_type": "code",
      "source": [
        "dic_fuel = dict(df[\"fuel\"].value_counts())\n",
        "plt.bar(dic_fuel.keys(),dic_fuel.values())\n",
        "plt.xlabel(\"Fuel Type\")\n",
        "plt.ylabel(\"No of Cars\")"
      ],
      "metadata": {
        "colab": {
          "base_uri": "https://localhost:8080/",
          "height": 296
        },
        "id": "Ww4tfvILOzL7",
        "outputId": "e93e0156-1f8e-4680-91f9-c7fc1864352f"
      },
      "execution_count": 34,
      "outputs": [
        {
          "output_type": "execute_result",
          "data": {
            "text/plain": [
              "Text(0, 0.5, 'No of Cars')"
            ]
          },
          "metadata": {},
          "execution_count": 34
        },
        {
          "output_type": "display_data",
          "data": {
            "text/plain": [
              "<Figure size 432x288 with 1 Axes>"
            ],
            "image/png": "[encoded data removed]"
          },
          "metadata": {
            "needs_background": "light"
          }
        }
      ]
    },
    {
      "cell_type": "markdown",
      "source": [
        "<h4> Inference:</h4> The majority of the cars are either Diesel or Petrol.\n",
        "<h3> Fuel Type vs Mean Selling Price </h3>"
      ],
      "metadata": {
        "id": "9GbXgYiYPHZn"
      }
    },
    {
      "cell_type": "code",
      "source": [
        "grpby_fuel = df.groupby(by=[\"fuel\"]).mean()\n",
        "grpby_fuel = grpby_fuel.drop(columns=[\"year\",\"km_driven\"])\n",
        "plt.barh(grpby_fuel.index,grpby_fuel[\"selling_price\"])\n",
        "plt.ylabel(\"Fuel Type\")\n",
        "plt.xlabel(\"Mean Selling Price\")\n",
        "plt.show()"
      ],
      "metadata": {
        "colab": {
          "base_uri": "https://localhost:8080/",
          "height": 279
        },
        "id": "noI3OxtRPYRa",
        "outputId": "f52d9366-aa4f-4adf-f5db-3a1801dc35a3"
      },
      "execution_count": 27,
      "outputs": [
        {
          "output_type": "display_data",
          "data": {
            "text/plain": [
              "<Figure size 432x288 with 1 Axes>"
            ],
            "image/png": "[encoded data removed]"
          },
          "metadata": {
            "needs_background": "light"
          }
        }
      ]
    },
    {
      "cell_type": "markdown",
      "source": [
        "<h4> Inference:</h4> Diesel Cars are sold at higher prices than other fuel type cars.\n",
        "<h3> Ownership vs Mean Selling Price </h3>"
      ],
      "metadata": {
        "id": "6Rya2cqMQty2"
      }
    },
    {
      "cell_type": "code",
      "source": [
        "grpby_owner = df.groupby(by=[\"owner\"]).mean()\n",
        "grpby_owner = grpby_owner.drop(columns=[\"year\",\"km_driven\"])\n",
        "plt.barh(grpby_owner.index,grpby_owner[\"selling_price\"])\n",
        "plt.ylabel(\"No of Owners\")\n",
        "plt.xlabel(\"Mean Selling Price\")\n",
        "plt.show()"
      ],
      "metadata": {
        "colab": {
          "base_uri": "https://localhost:8080/",
          "height": 279
        },
        "id": "lVEFticRQ9uQ",
        "outputId": "39ccec14-aeb6-4fbc-d97a-0d59b9cd3998"
      },
      "execution_count": 28,
      "outputs": [
        {
          "output_type": "display_data",
          "data": {
            "text/plain": [
              "<Figure size 432x288 with 1 Axes>"
            ],
            "image/png": "[encoded data removed]"
          },
          "metadata": {
            "needs_background": "light"
          }
        }
      ]
    },
    {
      "cell_type": "markdown",
      "source": [
        "<h4> Inference:</h4> Test Driven cars are sold at higher prices than other. This is Obvious because test driven cars are almost brand new.\n",
        "<h3> Transmission Type vs Mean Selling Price </h3>"
      ],
      "metadata": {
        "id": "cz_GKcLHRX1J"
      }
    },
    {
      "cell_type": "code",
      "source": [
        "grpby_trans = df.groupby(by=[\"transmission\"]).mean()\n",
        "grpby_trans = grpby_trans.drop(columns=[\"year\",\"km_driven\"])\n",
        "plt.barh(grpby_trans.index,grpby_trans[\"selling_price\"])\n",
        "plt.ylabel(\"Transmission Technology\")\n",
        "plt.xlabel(\"Mean Selling Price\")\n",
        "plt.show()"
      ],
      "metadata": {
        "colab": {
          "base_uri": "https://localhost:8080/",
          "height": 279
        },
        "id": "JzgIj1x3RjlQ",
        "outputId": "8eeead26-7d36-4a1a-90a3-48e66114a780"
      },
      "execution_count": 29,
      "outputs": [
        {
          "output_type": "display_data",
          "data": {
            "text/plain": [
              "<Figure size 432x288 with 1 Axes>"
            ],
            "image/png": "[encoded data removed]"
          },
          "metadata": {
            "needs_background": "light"
          }
        }
      ]
    },
    {
      "cell_type": "markdown",
      "source": [
        "<h4> Inference:</h4> Automatic cars are sold at higher prices than other.\n",
        "<h3> Seller Type vs Mean Selling Price </h3>"
      ],
      "metadata": {
        "id": "TkWGsoMsR4vd"
      }
    },
    {
      "cell_type": "code",
      "source": [
        "grpby_seller = df.groupby(by=[\"seller_type\"]).mean()\n",
        "grpby_seller = grpby_seller.drop(columns=[\"year\",\"km_driven\"])\n",
        "plt.barh(grpby_seller.index,grpby_seller[\"selling_price\"])\n",
        "plt.ylabel(\"Seller Type\")\n",
        "plt.xlabel(\"Mean Selling Price\")\n",
        "plt.show()"
      ],
      "metadata": {
        "colab": {
          "base_uri": "https://localhost:8080/",
          "height": 279
        },
        "id": "q3FsOylASCdz",
        "outputId": "ccbc1c64-a37a-481b-cb7a-5d8f1f294c93"
      },
      "execution_count": 30,
      "outputs": [
        {
          "output_type": "display_data",
          "data": {
            "text/plain": [
              "<Figure size 432x288 with 1 Axes>"
            ],
            "image/png": "[encoded data removed]"
          },
          "metadata": {
            "needs_background": "light"
          }
        }
      ]
    },
    {
      "cell_type": "markdown",
      "source": [
        "<h4> Inference:</h4> Trusted Sellers sells at higher prices than Dealer and Direct Purchases.\n",
        "<h3> Pair Plot </h3>"
      ],
      "metadata": {
        "id": "gc4WWkeoSSNT"
      }
    },
    {
      "cell_type": "code",
      "source": [
        "sns.pairplot(df)"
      ],
      "metadata": {
        "colab": {
          "base_uri": "https://localhost:8080/",
          "height": 567
        },
        "id": "pQxXAHLCSvWF",
        "outputId": "52db45c3-79fb-42cd-947c-9883847ffdb1"
      },
      "execution_count": 35,
      "outputs": [
        {
          "output_type": "execute_result",
          "data": {
            "text/plain": [
              "<seaborn.axisgrid.PairGrid at 0x7fda74d719d0>"
            ]
          },
          "metadata": {},
          "execution_count": 35
        },
        {
          "output_type": "display_data",
          "data": {
            "text/plain": [
              "<Figure size 540x540 with 12 Axes>"
            ],
            "image/png": "[encoded data removed]"
          },
          "metadata": {
            "needs_background": "light"
          }
        }
      ]
    },
    {
      "cell_type": "markdown",
      "source": [
        "<h3> Encoding Categorical Features using Label Encoding </h3>"
      ],
      "metadata": {
        "id": "uqbkqvONS15m"
      }
    },
    {
      "cell_type": "code",
      "source": [
        "df[\"fuel\"].value_counts()"
      ],
      "metadata": {
        "colab": {
          "base_uri": "https://localhost:8080/"
        },
        "id": "b8RMxcfRTFlk",
        "outputId": "247094cd-0b54-430d-ac10-0de7503153b1"
      },
      "execution_count": 42,
      "outputs": [
        {
          "output_type": "execute_result",
          "data": {
            "text/plain": [
              "Diesel      2153\n",
              "Petrol      2123\n",
              "CNG           40\n",
              "LPG           23\n",
              "Electric       1\n",
              "Name: fuel, dtype: int64"
            ]
          },
          "metadata": {},
          "execution_count": 42
        }
      ]
    },
    {
      "cell_type": "code",
      "source": [
        "def fuel(x):\n",
        "  if x==\"Diesel\":\n",
        "    return 1\n",
        "  elif x==\"Petrol\":\n",
        "    return 2\n",
        "  elif x==\"CNG\":\n",
        "    return 3\n",
        "  elif x==\"LPG\":\n",
        "    return 4\n",
        "  else:\n",
        "    return 5\n",
        "\n",
        "df[\"fuel\"] = df[\"fuel\"].apply(lambda x: fuel(x))"
      ],
      "metadata": {
        "id": "iy_65iRDTKaQ"
      },
      "execution_count": 43,
      "outputs": []
    },
    {
      "cell_type": "code",
      "source": [
        "df[\"owner\"].value_counts()"
      ],
      "metadata": {
        "colab": {
          "base_uri": "https://localhost:8080/"
        },
        "id": "qEt0_a5KTjE9",
        "outputId": "229d0235-a34d-4887-f659-2d9e532e2113"
      },
      "execution_count": 44,
      "outputs": [
        {
          "output_type": "execute_result",
          "data": {
            "text/plain": [
              "First Owner             2832\n",
              "Second Owner            1106\n",
              "Third Owner              304\n",
              "Fourth & Above Owner      81\n",
              "Test Drive Car            17\n",
              "Name: owner, dtype: int64"
            ]
          },
          "metadata": {},
          "execution_count": 44
        }
      ]
    },
    {
      "cell_type": "code",
      "source": [
        "def owner(x):\n",
        "  if x==\"First Owner\":\n",
        "    return 1\n",
        "  elif x==\"Second Owner\":\n",
        "    return 2\n",
        "  elif x==\"Third Owner\":\n",
        "    return 3\n",
        "  elif x==\"Fourth & Above Owner\":\n",
        "    return 4\n",
        "  else:\n",
        "    return 0\n",
        "    \n",
        "df[\"owner\"] = df[\"owner\"].apply(lambda x: owner(x))"
      ],
      "metadata": {
        "id": "YTkKIL1OTt2r"
      },
      "execution_count": 45,
      "outputs": []
    },
    {
      "cell_type": "code",
      "source": [
        "df[\"transmission\"] = df[\"transmission\"].apply(lambda x : 0 if x==\"Manual\" else 1)"
      ],
      "metadata": {
        "id": "-oxTRIdWUD46"
      },
      "execution_count": 47,
      "outputs": []
    },
    {
      "cell_type": "code",
      "source": [
        "df[\"seller_type\"].value_counts()"
      ],
      "metadata": {
        "colab": {
          "base_uri": "https://localhost:8080/"
        },
        "id": "PN4i4RKMUWgY",
        "outputId": "5510241b-c4af-4db7-9661-bcbcf41e8bab"
      },
      "execution_count": 48,
      "outputs": [
        {
          "output_type": "execute_result",
          "data": {
            "text/plain": [
              "Individual          3244\n",
              "Dealer               994\n",
              "Trustmark Dealer     102\n",
              "Name: seller_type, dtype: int64"
            ]
          },
          "metadata": {},
          "execution_count": 48
        }
      ]
    },
    {
      "cell_type": "code",
      "source": [
        "def seller(x):\n",
        "  if x==\"Individual\":\n",
        "    return 1\n",
        "  elif x==\"Dealer\":\n",
        "    return 2\n",
        "  else:\n",
        "    return 3\n",
        "    \n",
        "df[\"seller_type\"] = df[\"seller_type\"].apply(lambda x: seller(x))"
      ],
      "metadata": {
        "id": "kHnWNgbwUZ8A"
      },
      "execution_count": 49,
      "outputs": []
    },
    {
      "cell_type": "code",
      "source": [
        "df.head(2)"
      ],
      "metadata": {
        "colab": {
          "base_uri": "https://localhost:8080/",
          "height": 112
        },
        "id": "pCWihhYzUnH0",
        "outputId": "96924804-7597-4cd5-fa22-33cdb7150d5e"
      },
      "execution_count": 50,
      "outputs": [
        {
          "output_type": "execute_result",
          "data": {
            "text/plain": [
              "                       name  year  selling_price  km_driven  fuel  \\\n",
              "0             Maruti 800 AC  2007          60000      70000     2   \n",
              "1  Maruti Wagon R LXI Minor  2007         135000      50000     2   \n",
              "\n",
              "   seller_type  transmission  owner  \n",
              "0            1             0      1  \n",
              "1            1             0      1  "
            ],
            "text/html": [
              "\n",
              "  <div id=\"df-ed4eaebc-fe8e-4fef-8143-d1eea6fe8721\">\n",
              "    <div class=\"colab-df-container\">\n",
              "      <div>\n",
              "<style scoped>\n",
              "    .dataframe tbody tr th:only-of-type {\n",
              "        vertical-align: middle;\n",
              "    }\n",
              "\n",
              "    .dataframe tbody tr th {\n",
              "        vertical-align: top;\n",
              "    }\n",
              "\n",
              "    .dataframe thead th {\n",
              "        text-align: right;\n",
              "    }\n",
              "</style>\n",
              "<table border=\"1\" class=\"dataframe\">\n",
              "  <thead>\n",
              "    <tr style=\"text-align: right;\">\n",
              "      <th></th>\n",
              "      <th>name</th>\n",
              "      <th>year</th>\n",
              "      <th>selling_price</th>\n",
              "      <th>km_driven</th>\n",
              "      <th>fuel</th>\n",
              "      <th>seller_type</th>\n",
              "      <th>transmission</th>\n",
              "      <th>owner</th>\n",
              "    </tr>\n",
              "  </thead>\n",
              "  <tbody>\n",
              "    <tr>\n",
              "      <th>0</th>\n",
              "      <td>Maruti 800 AC</td>\n",
              "      <td>2007</td>\n",
              "      <td>60000</td>\n",
              "      <td>70000</td>\n",
              "      <td>2</td>\n",
              "      <td>1</td>\n",
              "      <td>0</td>\n",
              "      <td>1</td>\n",
              "    </tr>\n",
              "    <tr>\n",
              "      <th>1</th>\n",
              "      <td>Maruti Wagon R LXI Minor</td>\n",
              "      <td>2007</td>\n",
              "      <td>135000</td>\n",
              "      <td>50000</td>\n",
              "      <td>2</td>\n",
              "      <td>1</td>\n",
              "      <td>0</td>\n",
              "      <td>1</td>\n",
              "    </tr>\n",
              "  </tbody>\n",
              "</table>\n",
              "</div>\n",
              "      <button class=\"colab-df-convert\" onclick=\"convertToInteractive('df-ed4eaebc-fe8e-4fef-8143-d1eea6fe8721')\"\n",
              "              title=\"Convert this dataframe to an interactive table.\"\n",
              "              style=\"display:none;\">\n",
              "        \n",
              "  <svg xmlns=\"http://www.w3.org/2000/svg\" height=\"24px\"viewBox=\"0 0 24 24\"\n",
              "       width=\"24px\">\n",
              "    <path d=\"M0 0h24v24H0V0z\" fill=\"none\"/>\n",
              "    <path d=\"M18.56 5.44l.94 2.06.94-2.06 2.06-.94-2.06-.94-.94-2.06-.94 2.06-2.06.94zm-11 1L8.5 8.5l.94-2.06 2.06-.94-2.06-.94L8.5 2.5l-.94 2.06-2.06.94zm10 10l.94 2.06.94-2.06 2.06-.94-2.06-.94-.94-2.06-.94 2.06-2.06.94z\"/><path d=\"M17.41 7.96l-1.37-1.37c-.4-.4-.92-.59-1.43-.59-.52 0-1.04.2-1.43.59L10.3 9.45l-7.72 7.72c-.78.78-.78 2.05 0 2.83L4 21.41c.39.39.9.59 1.41.59.51 0 1.02-.2 1.41-.59l7.78-7.78 2.81-2.81c.8-.78.8-2.07 0-2.86zM5.41 20L4 18.59l7.72-7.72 1.47 1.35L5.41 20z\"/>\n",
              "  </svg>\n",
              "      </button>\n",
              "      \n",
              "  <style>\n",
              "    .colab-df-container {\n",
              "      display:flex;\n",
              "      flex-wrap:wrap;\n",
              "      gap: 12px;\n",
              "    }\n",
              "\n",
              "    .colab-df-convert {\n",
              "      background-color: #E8F0FE;\n",
              "      border: none;\n",
              "      border-radius: 50%;\n",
              "      cursor: pointer;\n",
              "      display: none;\n",
              "      fill: #1967D2;\n",
              "      height: 32px;\n",
              "      padding: 0 0 0 0;\n",
              "      width: 32px;\n",
              "    }\n",
              "\n",
              "    .colab-df-convert:hover {\n",
              "      background-color: #E2EBFA;\n",
              "      box-shadow: 0px 1px 2px rgba(60, 64, 67, 0.3), 0px 1px 3px 1px rgba(60, 64, 67, 0.15);\n",
              "      fill: #174EA6;\n",
              "    }\n",
              "\n",
              "    [theme=dark] .colab-df-convert {\n",
              "      background-color: #3B4455;\n",
              "      fill: #D2E3FC;\n",
              "    }\n",
              "\n",
              "    [theme=dark] .colab-df-convert:hover {\n",
              "      background-color: #434B5C;\n",
              "      box-shadow: 0px 1px 3px 1px rgba(0, 0, 0, 0.15);\n",
              "      filter: drop-shadow(0px 1px 2px rgba(0, 0, 0, 0.3));\n",
              "      fill: #FFFFFF;\n",
              "    }\n",
              "  </style>\n",
              "\n",
              "      <script>\n",
              "        const buttonEl =\n",
              "          document.querySelector('#df-ed4eaebc-fe8e-4fef-8143-d1eea6fe8721 button.colab-df-convert');\n",
              "        buttonEl.style.display =\n",
              "          google.colab.kernel.accessAllowed ? 'block' : 'none';\n",
              "\n",
              "        async function convertToInteractive(key) {\n",
              "          const element = document.querySelector('#df-ed4eaebc-fe8e-4fef-8143-d1eea6fe8721');\n",
              "          const dataTable =\n",
              "            await google.colab.kernel.invokeFunction('convertToInteractive',\n",
              "                                                     [key], {});\n",
              "          if (!dataTable) return;\n",
              "\n",
              "          const docLinkHtml = 'Like what you see? Visit the ' +\n",
              "            '<a target=\"_blank\" href=https://colab.research.google.com/notebooks/data_table.ipynb>data table notebook</a>'\n",
              "            + ' to learn more about interactive tables.';\n",
              "          element.innerHTML = '';\n",
              "          dataTable['output_type'] = 'display_data';\n",
              "          await google.colab.output.renderOutput(dataTable, element);\n",
              "          const docLink = document.createElement('div');\n",
              "          docLink.innerHTML = docLinkHtml;\n",
              "          element.appendChild(docLink);\n",
              "        }\n",
              "      </script>\n",
              "    </div>\n",
              "  </div>\n",
              "  "
            ]
          },
          "metadata": {},
          "execution_count": 50
        }
      ]
    },
    {
      "cell_type": "markdown",
      "source": [
        "<h4> Dropping Year and Name Columns from Dataset </h4>"
      ],
      "metadata": {
        "id": "345LBZO9Upo-"
      }
    },
    {
      "cell_type": "code",
      "source": [
        "df = df.drop(columns=[\"name\",\"year\"])"
      ],
      "metadata": {
        "id": "fc8Pilt5UuJZ"
      },
      "execution_count": 51,
      "outputs": []
    },
    {
      "cell_type": "code",
      "source": [
        "df.head(2)"
      ],
      "metadata": {
        "colab": {
          "base_uri": "https://localhost:8080/",
          "height": 112
        },
        "id": "HNOKPsLWU0RY",
        "outputId": "3f0c30d6-e754-4cea-a407-35f33c6e185b"
      },
      "execution_count": 53,
      "outputs": [
        {
          "output_type": "execute_result",
          "data": {
            "text/plain": [
              "   selling_price  km_driven  fuel  seller_type  transmission  owner\n",
              "0          60000      70000     2            1             0      1\n",
              "1         135000      50000     2            1             0      1"
            ],
            "text/html": [
              "\n",
              "  <div id=\"df-cef72619-6216-4fb7-b353-ee5d6e8023fe\">\n",
              "    <div class=\"colab-df-container\">\n",
              "      <div>\n",
              "<style scoped>\n",
              "    .dataframe tbody tr th:only-of-type {\n",
              "        vertical-align: middle;\n",
              "    }\n",
              "\n",
              "    .dataframe tbody tr th {\n",
              "        vertical-align: top;\n",
              "    }\n",
              "\n",
              "    .dataframe thead th {\n",
              "        text-align: right;\n",
              "    }\n",
              "</style>\n",
              "<table border=\"1\" class=\"dataframe\">\n",
              "  <thead>\n",
              "    <tr style=\"text-align: right;\">\n",
              "      <th></th>\n",
              "      <th>selling_price</th>\n",
              "      <th>km_driven</th>\n",
              "      <th>fuel</th>\n",
              "      <th>seller_type</th>\n",
              "      <th>transmission</th>\n",
              "      <th>owner</th>\n",
              "    </tr>\n",
              "  </thead>\n",
              "  <tbody>\n",
              "    <tr>\n",
              "      <th>0</th>\n",
              "      <td>60000</td>\n",
              "      <td>70000</td>\n",
              "      <td>2</td>\n",
              "      <td>1</td>\n",
              "      <td>0</td>\n",
              "      <td>1</td>\n",
              "    </tr>\n",
              "    <tr>\n",
              "      <th>1</th>\n",
              "      <td>135000</td>\n",
              "      <td>50000</td>\n",
              "      <td>2</td>\n",
              "      <td>1</td>\n",
              "      <td>0</td>\n",
              "      <td>1</td>\n",
              "    </tr>\n",
              "  </tbody>\n",
              "</table>\n",
              "</div>\n",
              "      <button class=\"colab-df-convert\" onclick=\"convertToInteractive('df-cef72619-6216-4fb7-b353-ee5d6e8023fe')\"\n",
              "              title=\"Convert this dataframe to an interactive table.\"\n",
              "              style=\"display:none;\">\n",
              "        \n",
              "  <svg xmlns=\"http://www.w3.org/2000/svg\" height=\"24px\"viewBox=\"0 0 24 24\"\n",
              "       width=\"24px\">\n",
              "    <path d=\"M0 0h24v24H0V0z\" fill=\"none\"/>\n",
              "    <path d=\"M18.56 5.44l.94 2.06.94-2.06 2.06-.94-2.06-.94-.94-2.06-.94 2.06-2.06.94zm-11 1L8.5 8.5l.94-2.06 2.06-.94-2.06-.94L8.5 2.5l-.94 2.06-2.06.94zm10 10l.94 2.06.94-2.06 2.06-.94-2.06-.94-.94-2.06-.94 2.06-2.06.94z\"/><path d=\"M17.41 7.96l-1.37-1.37c-.4-.4-.92-.59-1.43-.59-.52 0-1.04.2-1.43.59L10.3 9.45l-7.72 7.72c-.78.78-.78 2.05 0 2.83L4 21.41c.39.39.9.59 1.41.59.51 0 1.02-.2 1.41-.59l7.78-7.78 2.81-2.81c.8-.78.8-2.07 0-2.86zM5.41 20L4 18.59l7.72-7.72 1.47 1.35L5.41 20z\"/>\n",
              "  </svg>\n",
              "      </button>\n",
              "      \n",
              "  <style>\n",
              "    .colab-df-container {\n",
              "      display:flex;\n",
              "      flex-wrap:wrap;\n",
              "      gap: 12px;\n",
              "    }\n",
              "\n",
              "    .colab-df-convert {\n",
              "      background-color: #E8F0FE;\n",
              "      border: none;\n",
              "      border-radius: 50%;\n",
              "      cursor: pointer;\n",
              "      display: none;\n",
              "      fill: #1967D2;\n",
              "      height: 32px;\n",
              "      padding: 0 0 0 0;\n",
              "      width: 32px;\n",
              "    }\n",
              "\n",
              "    .colab-df-convert:hover {\n",
              "      background-color: #E2EBFA;\n",
              "      box-shadow: 0px 1px 2px rgba(60, 64, 67, 0.3), 0px 1px 3px 1px rgba(60, 64, 67, 0.15);\n",
              "      fill: #174EA6;\n",
              "    }\n",
              "\n",
              "    [theme=dark] .colab-df-convert {\n",
              "      background-color: #3B4455;\n",
              "      fill: #D2E3FC;\n",
              "    }\n",
              "\n",
              "    [theme=dark] .colab-df-convert:hover {\n",
              "      background-color: #434B5C;\n",
              "      box-shadow: 0px 1px 3px 1px rgba(0, 0, 0, 0.15);\n",
              "      filter: drop-shadow(0px 1px 2px rgba(0, 0, 0, 0.3));\n",
              "      fill: #FFFFFF;\n",
              "    }\n",
              "  </style>\n",
              "\n",
              "      <script>\n",
              "        const buttonEl =\n",
              "          document.querySelector('#df-cef72619-6216-4fb7-b353-ee5d6e8023fe button.colab-df-convert');\n",
              "        buttonEl.style.display =\n",
              "          google.colab.kernel.accessAllowed ? 'block' : 'none';\n",
              "\n",
              "        async function convertToInteractive(key) {\n",
              "          const element = document.querySelector('#df-cef72619-6216-4fb7-b353-ee5d6e8023fe');\n",
              "          const dataTable =\n",
              "            await google.colab.kernel.invokeFunction('convertToInteractive',\n",
              "                                                     [key], {});\n",
              "          if (!dataTable) return;\n",
              "\n",
              "          const docLinkHtml = 'Like what you see? Visit the ' +\n",
              "            '<a target=\"_blank\" href=https://colab.research.google.com/notebooks/data_table.ipynb>data table notebook</a>'\n",
              "            + ' to learn more about interactive tables.';\n",
              "          element.innerHTML = '';\n",
              "          dataTable['output_type'] = 'display_data';\n",
              "          await google.colab.output.renderOutput(dataTable, element);\n",
              "          const docLink = document.createElement('div');\n",
              "          docLink.innerHTML = docLinkHtml;\n",
              "          element.appendChild(docLink);\n",
              "        }\n",
              "      </script>\n",
              "    </div>\n",
              "  </div>\n",
              "  "
            ]
          },
          "metadata": {},
          "execution_count": 53
        }
      ]
    },
    {
      "cell_type": "markdown",
      "source": [
        "### Train Test Split"
      ],
      "metadata": {
        "id": "5hH0z5cPyoEW"
      }
    },
    {
      "cell_type": "code",
      "source": [
        "X = df.drop(columns=[\"selling_price\"])\n",
        "Y = df.selling_price\n",
        "x_train,x_test,y_train,y_test = train_test_split(X,Y,test_size=0.30)"
      ],
      "metadata": {
        "id": "4ZS2cwJ4ymt9"
      },
      "execution_count": 138,
      "outputs": []
    },
    {
      "cell_type": "code",
      "source": [
        "x_train.shape"
      ],
      "metadata": {
        "colab": {
          "base_uri": "https://localhost:8080/"
        },
        "id": "dljD8gdqyKtp",
        "outputId": "126dc412-2b66-46cb-cdd8-8517d1ab5ca9"
      },
      "execution_count": 139,
      "outputs": [
        {
          "output_type": "execute_result",
          "data": {
            "text/plain": [
              "(3038, 5)"
            ]
          },
          "metadata": {},
          "execution_count": 139
        }
      ]
    },
    {
      "cell_type": "code",
      "source": [
        "x_test.shape"
      ],
      "metadata": {
        "colab": {
          "base_uri": "https://localhost:8080/"
        },
        "id": "BJfT0S_yD0JD",
        "outputId": "d7d41bd0-e740-45d7-8bbd-7bad864ed371"
      },
      "execution_count": 140,
      "outputs": [
        {
          "output_type": "execute_result",
          "data": {
            "text/plain": [
              "(1302, 5)"
            ]
          },
          "metadata": {},
          "execution_count": 140
        }
      ]
    },
    {
      "cell_type": "markdown",
      "source": [
        "### Peforming Normalization Standard Scaler as KNN is Distance based and we need to bring different scales to uniform"
      ],
      "metadata": {
        "id": "N5AA9MuLxgil"
      }
    },
    {
      "cell_type": "code",
      "source": [
        "from sklearn.preprocessing import StandardScaler"
      ],
      "metadata": {
        "id": "jiycyNM-wjtz"
      },
      "execution_count": 141,
      "outputs": []
    },
    {
      "cell_type": "code",
      "source": [
        "ss = StandardScaler()\n",
        "x_train = ss.fit_transform(x_train)\n",
        "x_test = ss.fit_transform(x_test)"
      ],
      "metadata": {
        "id": "toNMzBYRx40W"
      },
      "execution_count": 142,
      "outputs": []
    },
    {
      "cell_type": "code",
      "source": [
        "y_test = np.array(y_test)"
      ],
      "metadata": {
        "id": "yYRAFTsJZ8hG"
      },
      "execution_count": 143,
      "outputs": []
    },
    {
      "cell_type": "code",
      "source": [
        "y_train = np.array(y_train)"
      ],
      "metadata": {
        "id": "esKoUuDGaUjK"
      },
      "execution_count": 144,
      "outputs": []
    },
    {
      "cell_type": "markdown",
      "source": [
        "## Model Building"
      ],
      "metadata": {
        "id": "MCvQ6Zbd0sCq"
      }
    },
    {
      "cell_type": "markdown",
      "source": [
        "<h3> Finding Optimal K value using Cross Validation [Mean]</h3>"
      ],
      "metadata": {
        "id": "c47tp5vgVmK-"
      }
    },
    {
      "cell_type": "code",
      "source": [
        "cross_val_x = x_test[:100]\n",
        "cross_val_y = y_test[:100]\n",
        "x_test = x_test[100:]\n",
        "y_test = y_test[100:]\n",
        "x_train1 = x_train[:200]\n",
        "y_train1 = y_train[:200]\n",
        "k = [i for i in range(1,50)]\n",
        "train_error = []\n",
        "cross_val_error = []\n",
        "for i in k:\n",
        "  model = KNN_Regressor(i,x_train,y_train)\n",
        "  ypred = model.Predict(x_train1)\n",
        "  train_error.append(model.MSE(y_train1,ypred))\n",
        "for i in k:\n",
        "  model = KNN_Regressor(i,x_train,y_train)\n",
        "  ypred = model.Predict(cross_val_x)\n",
        "  cross_val_error.append(model.MSE(cross_val_y,ypred))\n"
      ],
      "metadata": {
        "id": "qgXlYRz6VlPi"
      },
      "execution_count": 145,
      "outputs": []
    },
    {
      "cell_type": "code",
      "source": [
        "plt.plot(k,train_error,label=\"train_error\")\n",
        "plt.plot(k,cross_val_error,label=\"cross val error\")\n",
        "plt.xlabel(\"K values\")\n",
        "plt.ylabel(\"Mean Squared error\")\n",
        "plt.legend()"
      ],
      "metadata": {
        "colab": {
          "base_uri": "https://localhost:8080/",
          "height": 307
        },
        "id": "hYpHwMZ5f-Ok",
        "outputId": "7e093d47-7e9d-43ae-91ca-b720f316e349"
      },
      "execution_count": 147,
      "outputs": [
        {
          "output_type": "execute_result",
          "data": {
            "text/plain": [
              "<matplotlib.legend.Legend at 0x7fda703ca7d0>"
            ]
          },
          "metadata": {},
          "execution_count": 147
        },
        {
          "output_type": "display_data",
          "data": {
            "text/plain": [
              "<Figure size 432x288 with 1 Axes>"
            ],
            "image/png": "[encoded data removed]"
          },
          "metadata": {
            "needs_background": "light"
          }
        }
      ]
    },
    {
      "cell_type": "markdown",
      "source": [
        "Let us choose k value as 22"
      ],
      "metadata": {
        "id": "xJcVeIKlhu9g"
      }
    },
    {
      "cell_type": "code",
      "source": [
        "model = KNN_Regressor(22,x_train,y_train)"
      ],
      "metadata": {
        "id": "8-L_gVz-ynp1"
      },
      "execution_count": 148,
      "outputs": []
    },
    {
      "cell_type": "code",
      "source": [
        "ypred = model.Predict(x_test)"
      ],
      "metadata": {
        "id": "hDemse2740RA"
      },
      "execution_count": 149,
      "outputs": []
    },
    {
      "cell_type": "markdown",
      "source": [
        "### Mean Squared Error for test dataset\n",
        "\n"
      ],
      "metadata": {
        "id": "roPVD33K7uVu"
      }
    },
    {
      "cell_type": "code",
      "source": [
        "print(\"Mean Squared Error:\",model.MSE(y_test,ypred))"
      ],
      "metadata": {
        "colab": {
          "base_uri": "https://localhost:8080/"
        },
        "id": "3rm7NhIM7yAi",
        "outputId": "8ef42730-9fbf-4db4-e644-4d24839280da"
      },
      "execution_count": 150,
      "outputs": [
        {
          "output_type": "stream",
          "name": "stdout",
          "text": [
            "Mean Squared Error: 156531117970.11087\n"
          ]
        }
      ]
    },
    {
      "cell_type": "markdown",
      "source": [
        "<h2> Using Median <h2>"
      ],
      "metadata": {
        "id": "p94Ox14qia1a"
      }
    },
    {
      "cell_type": "code",
      "source": [
        "model1 = KNN_Regressor(22,x_train,y_train,technique=\"Median\")\n",
        "ypred = model1.Predict(x_test)\n",
        "print(\"Mean Squared Error:\",model1.MSE(y_test,ypred))"
      ],
      "metadata": {
        "colab": {
          "base_uri": "https://localhost:8080/"
        },
        "id": "0xhDRBysiZ_2",
        "outputId": "8393a8a8-16d1-47e8-ee2f-b704edf3cbd1"
      },
      "execution_count": 159,
      "outputs": [
        {
          "output_type": "stream",
          "name": "stdout",
          "text": [
            "Mean Squared Error: 242377049744.92493\n"
          ]
        }
      ]
    },
    {
      "cell_type": "markdown",
      "source": [
        "## Sklearn Implementation of K Nearest Neighbors"
      ],
      "metadata": {
        "id": "Z_K2ALPOIxe0"
      }
    },
    {
      "cell_type": "code",
      "source": [
        "from sklearn.neighbors import KNeighborsRegressor"
      ],
      "metadata": {
        "id": "cCVsJwuC8tqE"
      },
      "execution_count": 151,
      "outputs": []
    },
    {
      "cell_type": "code",
      "source": [
        "neigh = KNeighborsRegressor(n_neighbors=22)"
      ],
      "metadata": {
        "id": "4rB8ezo6LjHo"
      },
      "execution_count": 152,
      "outputs": []
    },
    {
      "cell_type": "code",
      "source": [
        "neigh.fit(x_train, y_train)"
      ],
      "metadata": {
        "colab": {
          "base_uri": "https://localhost:8080/"
        },
        "id": "u7lA7znJLnsQ",
        "outputId": "f567b08d-986f-4dc1-925d-0512cfb99bfa"
      },
      "execution_count": 153,
      "outputs": [
        {
          "output_type": "execute_result",
          "data": {
            "text/plain": [
              "KNeighborsRegressor(n_neighbors=22)"
            ]
          },
          "metadata": {},
          "execution_count": 153
        }
      ]
    },
    {
      "cell_type": "code",
      "source": [
        "y_pred_sklearn = neigh.predict(x_test)"
      ],
      "metadata": {
        "id": "pACZbF8eLtyY"
      },
      "execution_count": 154,
      "outputs": []
    },
    {
      "cell_type": "code",
      "source": [
        "sse = 0\n",
        "for i in range(len(y_test)):\n",
        "  sse+=(y_test[i]-y_pred_sklearn[i])**2\n",
        "print(\"Mean Squared Error in sklearn is:\",sse/len(y_test))"
      ],
      "metadata": {
        "colab": {
          "base_uri": "https://localhost:8080/"
        },
        "id": "HbTDnxl-L1oS",
        "outputId": "d5e75520-dd22-4959-caae-90b440173518"
      },
      "execution_count": 156,
      "outputs": [
        {
          "output_type": "stream",
          "name": "stdout",
          "text": [
            "Mean Squared Error in sklearn is: 155755453861.10956\n"
          ]
        }
      ]
    }
  ]
}